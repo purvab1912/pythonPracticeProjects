{
 "cells": [
  {
   "cell_type": "markdown",
   "id": "94b41034-3fd5-4032-abc9-20e01b7d98f3",
   "metadata": {},
   "source": [
    "\"Operators\" in python are the special symbols used for operation such as:\n",
    "1. Arithmetic Operators\n",
    "2. Assignment operators\n",
    "3. Logical operators\n",
    "4. Comparison operators\n",
    "5. Bitwise operator\n",
    "6. Membership operator(in and not in)\n",
    "7. Identity operator(is and is not)"
   ]
  },
  {
   "cell_type": "code",
   "execution_count": 1,
   "id": "ef9e8698-bd8f-4097-a772-00e8584b6d6a",
   "metadata": {},
   "outputs": [
    {
     "name": "stdout",
     "output_type": "stream",
     "text": [
      "15\n",
      "5\n",
      "50\n",
      "2.0\n",
      "0\n"
     ]
    }
   ],
   "source": [
    "# Arithmetic\n",
    "a=10\n",
    "b=5\n",
    "print(a+b)\n",
    "print(a-b)\n",
    "print(a*b)\n",
    "print(a/b)\n",
    "print(a%b)"
   ]
  },
  {
   "cell_type": "code",
   "execution_count": 11,
   "id": "59543d74-0d1d-4099-beda-4019198b5ad5",
   "metadata": {},
   "outputs": [
    {
     "name": "stdout",
     "output_type": "stream",
     "text": [
      "12\n",
      "11\n",
      "22\n",
      "11.0\n",
      "121.0\n",
      "1.0\n",
      "0.0\n"
     ]
    }
   ],
   "source": [
    "# Assignment\n",
    "b=6\n",
    "a+=1;\n",
    "print(a)\n",
    "a-=1;\n",
    "print(a)\n",
    "a*=2;\n",
    "print(a)\n",
    "a/=2;\n",
    "print(a)\n",
    "a**=2;\n",
    "print(a)\n",
    "a%=2;\n",
    "print(a)\n",
    "a//=2;\n",
    "print(a)"
   ]
  },
  {
   "cell_type": "code",
   "execution_count": 24,
   "id": "77239cb3-3e24-478b-98fb-e81a4261ab4b",
   "metadata": {},
   "outputs": [
    {
     "name": "stdout",
     "output_type": "stream",
     "text": [
      "yes\n",
      "yes\n",
      "no\n"
     ]
    }
   ],
   "source": [
    "# Logical operator\n",
    "a=10\n",
    "b=6\n",
    "if a == 10 and b == 6:\n",
    "    print(\"yes\")\n",
    "if a == 10 or b == 6:\n",
    "    print(\"yes\")\n",
    "if not(a>10) :\n",
    "    print(\"no\")\n"
   ]
  },
  {
   "cell_type": "code",
   "execution_count": null,
   "id": "ebc2ec32-f20f-46cc-a672-e2f8aa664784",
   "metadata": {},
   "outputs": [],
   "source": []
  }
 ],
 "metadata": {
  "kernelspec": {
   "display_name": "Python 3 (ipykernel)",
   "language": "python",
   "name": "python3"
  },
  "language_info": {
   "codemirror_mode": {
    "name": "ipython",
    "version": 3
   },
   "file_extension": ".py",
   "mimetype": "text/x-python",
   "name": "python",
   "nbconvert_exporter": "python",
   "pygments_lexer": "ipython3",
   "version": "3.12.6"
  }
 },
 "nbformat": 4,
 "nbformat_minor": 5
}
