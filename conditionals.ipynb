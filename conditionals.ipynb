{
 "cells": [
  {
   "cell_type": "markdown",
   "id": "9be85b38-8847-4ae5-a763-31996257a341",
   "metadata": {},
   "source": [
    "Check if a number is positive, negative, or zero"
   ]
  },
  {
   "cell_type": "code",
   "execution_count": 3,
   "id": "30dc4303-93c3-463a-ad95-a9a67beac501",
   "metadata": {},
   "outputs": [
    {
     "name": "stdin",
     "output_type": "stream",
     "text": [
      "Enter a number 10\n"
     ]
    },
    {
     "name": "stdout",
     "output_type": "stream",
     "text": [
      "positive\n"
     ]
    }
   ],
   "source": [
    "numb = int(input(\"Enter a number\"))\n",
    "if numb == 0:\n",
    "  print(\"zero\")\n",
    "elif numb > 0 :\n",
    "  print(\"positive\")\n",
    "else:\n",
    "  print(\"negative\")\n",
    "        "
   ]
  },
  {
   "cell_type": "markdown",
   "id": "f339e131-1ebf-4e33-ad3b-94bad96aae4f",
   "metadata": {},
   "source": [
    "Check login credentials\n"
   ]
  },
  {
   "cell_type": "code",
   "execution_count": 4,
   "id": "851e32db-06ad-4437-8ae1-ab576a74c6fb",
   "metadata": {},
   "outputs": [
    {
     "name": "stdin",
     "output_type": "stream",
     "text": [
      "Enter username:  admin\n",
      "Enter password:  12345\n"
     ]
    },
    {
     "name": "stdout",
     "output_type": "stream",
     "text": [
      "Login successful\n"
     ]
    }
   ],
   "source": [
    "username = input(\"Enter username: \")\n",
    "password = input(\"Enter password: \")\n",
    "\n",
    "if username == \"admin\" and password == \"12345\":\n",
    "   print(\"Login successful\")\n",
    "else:\n",
    "   print(\"Invalid credentials\")"
   ]
  },
  {
   "cell_type": "markdown",
   "id": "39238d22-b272-4eaa-8fa0-dc61c8e82b18",
   "metadata": {},
   "source": [
    "Check if a number is even or odd"
   ]
  },
  {
   "cell_type": "code",
   "execution_count": 5,
   "id": "82f4c65d-2ce3-40fd-aeb8-b1d2dec20b42",
   "metadata": {},
   "outputs": [
    {
     "name": "stdin",
     "output_type": "stream",
     "text": [
      "Enter a number:  3\n"
     ]
    },
    {
     "name": "stdout",
     "output_type": "stream",
     "text": [
      "Odd number\n"
     ]
    }
   ],
   "source": [
    "num = int(input(\"Enter a number: \"))\n",
    "\n",
    "if num % 2 == 0:\n",
    "  print(\"Even number\")\n",
    "else:\n",
    "  print(\"Odd number\")"
   ]
  },
  {
   "cell_type": "code",
   "execution_count": null,
   "id": "999d25db-4f32-4b13-8198-22f1dfc7e0aa",
   "metadata": {},
   "outputs": [],
   "source": []
  }
 ],
 "metadata": {
  "kernelspec": {
   "display_name": "Python 3 (ipykernel)",
   "language": "python",
   "name": "python3"
  },
  "language_info": {
   "codemirror_mode": {
    "name": "ipython",
    "version": 3
   },
   "file_extension": ".py",
   "mimetype": "text/x-python",
   "name": "python",
   "nbconvert_exporter": "python",
   "pygments_lexer": "ipython3",
   "version": "3.12.6"
  }
 },
 "nbformat": 4,
 "nbformat_minor": 5
}
