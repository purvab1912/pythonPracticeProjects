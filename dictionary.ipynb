{
 "cells": [
  {
   "cell_type": "markdown",
   "id": "46f2e773-98ad-4cf9-9f6a-f1390117bb49",
   "metadata": {},
   "source": [
    "What is Dictionary?\n",
    "1. it is a DataType where values are stored in a key : value pair\n",
    "2. heterogeneous type of storage\n",
    "3. duplicate keys are not allowed whereas values can be duplicate\n",
    "4. Orderd\n",
    "5. mutable"
   ]
  },
  {
   "cell_type": "markdown",
   "id": "70f6b206-e551-4480-9b62-caaf14b3f943",
   "metadata": {},
   "source": [
    "Method\tDescription\n",
    "1. get(key) --> Returns value for key if exists\n",
    "2. keys() --> Returns a list of all keys\n",
    "3. values() -->\tReturns a list of all values\n",
    "4. items() -->\tReturns a list of (key, value) pairs\n",
    "5. pop(key) --> Removes item with specified key\n",
    "6. popitem() --> Removes last inserted item (Python 3.7+)\n",
    "7. update(dict2) --> Updates dictionary with another dict\n",
    "8. clear() --> Removes all items"
   ]
  },
  {
   "cell_type": "code",
   "execution_count": 18,
   "id": "5f3a52e0-0ddd-43ba-890f-58dfd6871832",
   "metadata": {},
   "outputs": [
    {
     "name": "stdout",
     "output_type": "stream",
     "text": [
      "{'name': 'purva', 'age': 20}\n"
     ]
    }
   ],
   "source": [
    "# creating dictionary\n",
    "student = { \"name\": \"purva\", \n",
    "           \"age\": 20}\n",
    "print(student)"
   ]
  },
  {
   "cell_type": "code",
   "execution_count": 19,
   "id": "d1d16418-c55c-4452-9a2e-d0f358ba48d2",
   "metadata": {},
   "outputs": [
    {
     "name": "stdout",
     "output_type": "stream",
     "text": [
      "purva\n"
     ]
    }
   ],
   "source": [
    "# accessing\n",
    "print(student[\"name\"])\n",
    "# print(student[\"grade\"])# will throw error\n"
   ]
  },
  {
   "cell_type": "code",
   "execution_count": 20,
   "id": "369c246d-c1c9-4e20-a332-b5007273139f",
   "metadata": {},
   "outputs": [
    {
     "name": "stdout",
     "output_type": "stream",
     "text": [
      "{'name': 'purva', 'age': 22}\n"
     ]
    }
   ],
   "source": [
    "# changing values\n",
    "student[\"age\"] = 22\n",
    "print(student)"
   ]
  },
  {
   "cell_type": "code",
   "execution_count": 21,
   "id": "d66d75b0-fca0-4b9d-aec1-0694290c9c9d",
   "metadata": {},
   "outputs": [
    {
     "name": "stdout",
     "output_type": "stream",
     "text": [
      "{'name': 'purva', 'age': 22, 'email': 'abc@gmail.com'}\n"
     ]
    }
   ],
   "source": [
    "# adding elements\n",
    "student[\"email\"] = \"abc@gmail.com\"\n",
    "print(student)"
   ]
  },
  {
   "cell_type": "code",
   "execution_count": 22,
   "id": "d862b135-4936-4b4b-84b4-3b413310bd8c",
   "metadata": {},
   "outputs": [
    {
     "name": "stdout",
     "output_type": "stream",
     "text": [
      "name : purva\n",
      "age : 22\n",
      "email : abc@gmail.com\n"
     ]
    }
   ],
   "source": [
    "# loop\n",
    "for key in student:\n",
    "   print(key, \":\", student[key])"
   ]
  },
  {
   "cell_type": "code",
   "execution_count": 23,
   "id": "ab1b9bf3-cc44-435b-b5a1-8e0e8dcd3617",
   "metadata": {},
   "outputs": [],
   "source": [
    "# removing elements\n",
    "student.pop(\"email\") \n",
    "del student[\"age\"] \n",
    "# student.clear()"
   ]
  },
  {
   "cell_type": "code",
   "execution_count": 24,
   "id": "ee87c448-6477-4f43-a34e-25dde8f4dabc",
   "metadata": {},
   "outputs": [
    {
     "name": "stdout",
     "output_type": "stream",
     "text": [
      "{'name': 'purva'}\n"
     ]
    }
   ],
   "source": [
    "print(student)"
   ]
  },
  {
   "cell_type": "markdown",
   "id": "68d03a93-0e20-4895-8a48-0a1fdb775d8d",
   "metadata": {},
   "source": []
  }
 ],
 "metadata": {
  "kernelspec": {
   "display_name": "Python 3 (ipykernel)",
   "language": "python",
   "name": "python3"
  },
  "language_info": {
   "codemirror_mode": {
    "name": "ipython",
    "version": 3
   },
   "file_extension": ".py",
   "mimetype": "text/x-python",
   "name": "python",
   "nbconvert_exporter": "python",
   "pygments_lexer": "ipython3",
   "version": "3.12.6"
  }
 },
 "nbformat": 4,
 "nbformat_minor": 5
}
