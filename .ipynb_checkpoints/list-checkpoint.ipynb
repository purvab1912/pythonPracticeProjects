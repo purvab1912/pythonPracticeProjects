{
 "cells": [
  {
   "cell_type": "markdown",
   "id": "ea546686-68b3-48f3-900d-a0c27b8c219a",
   "metadata": {},
   "source": [
    "What is list?\n",
    "1. collection of heterogeneous data types\n",
    "2. ordered\n",
    "3. mutable\n",
    "4. allows duplicate"
   ]
  },
  {
   "cell_type": "code",
   "execution_count": null,
   "id": "43a56715-a88b-4445-9f81-c00ab663cc75",
   "metadata": {},
   "outputs": [],
   "source": []
  }
 ],
 "metadata": {
  "kernelspec": {
   "display_name": "Python 3 (ipykernel)",
   "language": "python",
   "name": "python3"
  },
  "language_info": {
   "codemirror_mode": {
    "name": "ipython",
    "version": 3
   },
   "file_extension": ".py",
   "mimetype": "text/x-python",
   "name": "python",
   "nbconvert_exporter": "python",
   "pygments_lexer": "ipython3",
   "version": "3.12.6"
  }
 },
 "nbformat": 4,
 "nbformat_minor": 5
}
