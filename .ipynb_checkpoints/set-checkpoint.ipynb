{
 "cells": [
  {
   "cell_type": "markdown",
   "id": "69e5deb1-f35e-4af5-800a-1c74e2dcd10c",
   "metadata": {},
   "source": [
    "What is set?\n",
    "Set is the collection of heterogeneus data types:\n",
    "1. unordered\n",
    "2. Does not allows duplicates\n",
    "3. represented as {}\n",
    "4. mutuable"
   ]
  },
  {
   "cell_type": "code",
   "execution_count": 4,
   "id": "61fddfd9-3e23-4930-bbfd-a0b1c898252f",
   "metadata": {},
   "outputs": [
    {
     "name": "stdout",
     "output_type": "stream",
     "text": [
      "{'cherry', 'lychee', 'banana', 'apple'}\n"
     ]
    }
   ],
   "source": [
    "# creating set\n",
    "fruits = {\"apple\", \"banana\", \"cherry\", \"lychee\"}\n",
    "print(fruits)"
   ]
  },
  {
   "cell_type": "code",
   "execution_count": 5,
   "id": "58212fc6-df4f-4a79-9eda-72de7f467066",
   "metadata": {},
   "outputs": [],
   "source": [
    "empty_set = set()"
   ]
  },
  {
   "cell_type": "code",
   "execution_count": 6,
   "id": "3c173e2e-3150-48ad-87ff-a325722bfeb5",
   "metadata": {},
   "outputs": [
    {
     "name": "stdout",
     "output_type": "stream",
     "text": [
      "{'lychee', 'banana', 'mango', 'cherry', 'apple'}\n"
     ]
    }
   ],
   "source": [
    "# adding  single elements\n",
    "fruits.add(\"mango\")\n",
    "print(fruits)"
   ]
  },
  {
   "cell_type": "code",
   "execution_count": 7,
   "id": "7f70e351-a8b7-4bb3-b27f-c5e2ce237d4c",
   "metadata": {},
   "outputs": [
    {
     "name": "stdout",
     "output_type": "stream",
     "text": [
      "{'dragon', 'lychee', 'papaya', 'banana', 'mango', 'cherry', 'apple'}\n"
     ]
    }
   ],
   "source": [
    "# adding muktiple elements\n",
    "fruits.update([\"papaya\", \"dragon\"])\n",
    "print(fruits)"
   ]
  },
  {
   "cell_type": "code",
   "execution_count": 8,
   "id": "e8200e26-9022-4fc0-bf8f-b9244630e0cd",
   "metadata": {},
   "outputs": [
    {
     "data": {
      "text/plain": [
       "'dragon'"
      ]
     },
     "execution_count": 8,
     "metadata": {},
     "output_type": "execute_result"
    }
   ],
   "source": [
    "# removing elements\n",
    "fruits.remove(\"banana\") # Removes item; raises error if not found\n",
    "fruits.discard(\"kiwi\") # Removes item; no error if not found\n",
    "fruits.pop() # Removes a random item\n",
    "# fruits.clear() "
   ]
  },
  {
   "cell_type": "code",
   "execution_count": 9,
   "id": "31e84ed5-ebfc-4147-9d12-11c6a5e8cd31",
   "metadata": {},
   "outputs": [
    {
     "name": "stdout",
     "output_type": "stream",
     "text": [
      "lychee\n",
      "papaya\n",
      "mango\n",
      "cherry\n",
      "apple\n"
     ]
    }
   ],
   "source": [
    "# ḷoop\n",
    "for i in fruits:\n",
    "    print(i)"
   ]
  },
  {
   "cell_type": "code",
   "execution_count": 12,
   "id": "3e8e17dd-c760-4c88-ada7-99a94d07a33a",
   "metadata": {},
   "outputs": [
    {
     "data": {
      "text/plain": [
       "{1, 2, 4, 5}"
      ]
     },
     "execution_count": 12,
     "metadata": {},
     "output_type": "execute_result"
    }
   ],
   "source": [
    "# set operations\n",
    "a = {1, 2, 3}\n",
    "b = {3, 4, 5}\n",
    "\n",
    "a.union(b) # {1, 2, 3, 4, 5}\n",
    "a | b # same as union\n",
    "\n",
    "a.intersection(b) # {3}\n",
    "a & b # same as intersection\n",
    "\n",
    "a.difference(b) # {1, 2}\n",
    "a - b # same as difference\n",
    "\n",
    "a.symmetric_difference(b) # {1, 2, 4, 5}\n",
    "a ^ b # same as symmetric_difference"
   ]
  },
  {
   "cell_type": "code",
   "execution_count": 13,
   "id": "a009df48-27b9-48f6-ac24-df66ee8cb431",
   "metadata": {},
   "outputs": [],
   "source": [
    "# set copying\n",
    "new_set = fruits.copy()"
   ]
  },
  {
   "cell_type": "code",
   "execution_count": 14,
   "id": "eba9e753-7018-482e-9c27-8e1f3be3e780",
   "metadata": {},
   "outputs": [
    {
     "name": "stdout",
     "output_type": "stream",
     "text": [
      "{'lychee', 'mango', 'cherry', 'papaya', 'apple'}\n"
     ]
    }
   ],
   "source": [
    "print(new_set)"
   ]
  },
  {
   "cell_type": "markdown",
   "id": "88bef065-71f5-44ae-8be3-835e8f6c3232",
   "metadata": {},
   "source": [
    "SET METHODS\n",
    "\n",
    "1. Method -->\tDescription\n",
    "2. add() --> Add a single element\n",
    "3. update() --> Add multiple elements\n",
    "4. remove() / discard() --> Remove element\n",
    "5. pop() --> Remove random element\n",
    "6. clear() --> Empty the set\n",
    "7. union() --> Combine sets\n",
    "8. intersection() --> Common elements\n",
    "9. difference() --> Elements in one but not the other\n",
    "10. symmetric_difference() --> Unique elements from both sets\n",
    "11. issubset() --> Checks if one set is subset of another\n",
    "12. issuperset() --> Checks if one set is superset\n",
    "13. isdisjoint() --> Checks if sets have no elements in common"
   ]
  },
  {
   "cell_type": "code",
   "execution_count": null,
   "id": "e6bd2e7f-7a7c-4a46-b529-ff9c5c56d841",
   "metadata": {},
   "outputs": [],
   "source": []
  }
 ],
 "metadata": {
  "kernelspec": {
   "display_name": "Python 3 (ipykernel)",
   "language": "python",
   "name": "python3"
  },
  "language_info": {
   "codemirror_mode": {
    "name": "ipython",
    "version": 3
   },
   "file_extension": ".py",
   "mimetype": "text/x-python",
   "name": "python",
   "nbconvert_exporter": "python",
   "pygments_lexer": "ipython3",
   "version": "3.12.6"
  }
 },
 "nbformat": 4,
 "nbformat_minor": 5
}
