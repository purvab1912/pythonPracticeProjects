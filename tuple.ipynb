{
 "cells": [
  {
   "cell_type": "markdown",
   "id": "7eb61835-ecff-432f-96f0-eb3e6db4b600",
   "metadata": {},
   "source": [
    "What is Tuple?\n",
    "A tuple is a built-in data type in Python used to store multiple items in a single variable:\n",
    "1. Ordered \n",
    "2. Immutable \n",
    "3. Allows duplicate values \n",
    "4. Defined using parentheses ()"
   ]
  },
  {
   "cell_type": "code",
   "execution_count": 1,
   "id": "9f47b124-9dda-4d8d-8ff3-402ec53e3d76",
   "metadata": {},
   "outputs": [],
   "source": [
    "# creating a tuple\n",
    "fruits = (\"apple\", \"banana\", \"cherry\")\n",
    "numbers = (1, 2, 3, 4, 5)\n",
    "mixed = (\"hello\", 3.14, 42, True)"
   ]
  },
  {
   "cell_type": "code",
   "execution_count": 2,
   "id": "f269d813-2e61-4ecb-9222-d6201bf4ca8b",
   "metadata": {},
   "outputs": [
    {
     "name": "stdout",
     "output_type": "stream",
     "text": [
      "banana\n",
      "3\n",
      "True\n"
     ]
    }
   ],
   "source": [
    "# Acessing tuples\n",
    "print(fruits[1])\n",
    "print(numbers[2])\n",
    "print(mixed[-1])"
   ]
  },
  {
   "cell_type": "code",
   "execution_count": 3,
   "id": "87a725d5-c99b-4fff-a11e-da01fc6e8ce8",
   "metadata": {},
   "outputs": [
    {
     "name": "stdout",
     "output_type": "stream",
     "text": [
      "('apple', 'banana', 'cherry')\n"
     ]
    }
   ],
   "source": [
    "# slicing tuple\n",
    "print(fruits[:3])"
   ]
  },
  {
   "cell_type": "code",
   "execution_count": 11,
   "id": "c20ff3ec-93aa-4ed8-adb1-01f38c77b20f",
   "metadata": {},
   "outputs": [
    {
     "name": "stdout",
     "output_type": "stream",
     "text": [
      "(5,)\n"
     ]
    }
   ],
   "source": [
    "print(numbers[-1::])"
   ]
  },
  {
   "cell_type": "code",
   "execution_count": 12,
   "id": "c104f5f4-dc02-4124-bac9-7edcee3fef3c",
   "metadata": {},
   "outputs": [
    {
     "name": "stdout",
     "output_type": "stream",
     "text": [
      "(1, 2, 3, 4, 5)\n",
      "(1, 2, 3, 4, 5)\n",
      "(1, 2, 3, 4, 5)\n",
      "(1, 2, 3, 4, 5)\n",
      "(1, 2, 3, 4, 5)\n"
     ]
    }
   ],
   "source": [
    "# loop\n",
    "for i in numbers:\n",
    "    print(numbers)\n",
    "    "
   ]
  },
  {
   "cell_type": "code",
   "execution_count": 18,
   "id": "8181dacb-c845-45bd-9407-47da7d25f242",
   "metadata": {},
   "outputs": [
    {
     "name": "stdout",
     "output_type": "stream",
     "text": [
      "(1, 2, 3, 4, 5)\n"
     ]
    }
   ],
   "source": [
    "# tuple is immutable (to make changes in tuple convert it into list)\n",
    "num = list(numbers)\n",
    "num[1] = \"6\"\n",
    "num = tuple(numbers)\n",
    "print(num)"
   ]
  },
  {
   "cell_type": "code",
   "execution_count": 23,
   "id": "bd11c9b8-a5e5-4435-a5a3-e74884583977",
   "metadata": {},
   "outputs": [
    {
     "name": "stdout",
     "output_type": "stream",
     "text": [
      "Alice\n"
     ]
    }
   ],
   "source": [
    "# tuple unpacking\n",
    "person = (\"Alice\", 25, \"Engineer\")\n",
    "name, age, job = person\n",
    "print(name) \n",
    "\n"
   ]
  },
  {
   "cell_type": "code",
   "execution_count": 24,
   "id": "4e7c44ae-8884-46a7-8933-83ca43f739a2",
   "metadata": {},
   "outputs": [
    {
     "name": "stdout",
     "output_type": "stream",
     "text": [
      "2\n",
      "2\n",
      "4\n"
     ]
    }
   ],
   "source": [
    "# tuple function\n",
    "colors = (\"red\", \"green\", \"blue\", \"green\")\n",
    "\n",
    "print(colors.count(\"green\")) \n",
    "print(colors.index(\"blue\"))\n",
    "print(len(colors))"
   ]
  },
  {
   "cell_type": "code",
   "execution_count": 25,
   "id": "9e60044b-97c3-49b1-875f-3eec3546fd5e",
   "metadata": {},
   "outputs": [
    {
     "name": "stdout",
     "output_type": "stream",
     "text": [
      "3\n"
     ]
    }
   ],
   "source": [
    "# nested function\n",
    "nested = ((1, 2), (3, 4), (5, 6))\n",
    "print(nested[1][0]) "
   ]
  },
  {
   "cell_type": "code",
   "execution_count": 26,
   "id": "b924bffb-3f98-48ee-9a3e-de247ac2b15e",
   "metadata": {},
   "outputs": [
    {
     "name": "stdout",
     "output_type": "stream",
     "text": [
      "{(0, 0): 'Origin', (1, 2): 'Point A'}\n"
     ]
    }
   ],
   "source": [
    "# Using Tuples as Dictionary Keys\n",
    "# Tuples are hashable (unlike lists), so they can be used as dictionary keys:\n",
    "\n",
    "coordinates = {(0, 0): \"Origin\", (1, 2): \"Point A\"}\n",
    "print(coordinates)"
   ]
  },
  {
   "cell_type": "code",
   "execution_count": 28,
   "id": "9a14ede6-9a60-43cc-867d-7fb3dd56eb79",
   "metadata": {},
   "outputs": [
    {
     "name": "stdout",
     "output_type": "stream",
     "text": [
      "('hello',)\n"
     ]
    }
   ],
   "source": [
    "# Single-Element Tuple\n",
    "one_item = (\"hello\",) # Note the comma!\n",
    "not_a_tuple = (\"hello\") # This is just a string\n",
    "print(one_item)"
   ]
  },
  {
   "cell_type": "code",
   "execution_count": null,
   "id": "d56b60b3-2076-4e58-88d9-5e6ce80b7f3b",
   "metadata": {},
   "outputs": [],
   "source": []
  }
 ],
 "metadata": {
  "kernelspec": {
   "display_name": "Python 3 (ipykernel)",
   "language": "python",
   "name": "python3"
  },
  "language_info": {
   "codemirror_mode": {
    "name": "ipython",
    "version": 3
   },
   "file_extension": ".py",
   "mimetype": "text/x-python",
   "name": "python",
   "nbconvert_exporter": "python",
   "pygments_lexer": "ipython3",
   "version": "3.12.6"
  }
 },
 "nbformat": 4,
 "nbformat_minor": 5
}
