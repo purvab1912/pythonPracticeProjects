{
 "cells": [
  {
   "cell_type": "code",
   "execution_count": null,
   "id": "1fc068f4-c709-42a0-8fc6-03ab75ca4975",
   "metadata": {},
   "outputs": [],
   "source": []
  }
 ],
 "metadata": {
  "kernelspec": {
   "display_name": "",
   "name": ""
  },
  "language_info": {
   "name": ""
  }
 },
 "nbformat": 4,
 "nbformat_minor": 5
}
