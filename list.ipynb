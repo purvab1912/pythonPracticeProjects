{
 "cells": [
  {
   "cell_type": "markdown",
   "id": "ea546686-68b3-48f3-900d-a0c27b8c219a",
   "metadata": {},
   "source": [
    "What is list?\n",
    "1. collection of heterogeneous data types\n",
    "2. ordered\n",
    "3. mutable\n",
    "4. allows duplicate"
   ]
  },
  {
   "cell_type": "code",
   "execution_count": 12,
   "id": "43a56715-a88b-4445-9f81-c00ab663cc75",
   "metadata": {},
   "outputs": [
    {
     "name": "stdout",
     "output_type": "stream",
     "text": [
      "['apple', 12, 'banana', 42, 'cherry', 10]\n"
     ]
    }
   ],
   "source": [
    "# creating a list\n",
    "list = ['apple', 12 , 'banana', 42, 'cherry', 10]\n",
    "print(list)"
   ]
  },
  {
   "cell_type": "code",
   "execution_count": 13,
   "id": "9cb0c680-ab40-4a66-979e-cbd38e446da8",
   "metadata": {},
   "outputs": [
    {
     "name": "stdout",
     "output_type": "stream",
     "text": [
      "12\n",
      "10\n"
     ]
    }
   ],
   "source": [
    "# Accessing by index\n",
    "print(list[1])\n",
    "print(list[-1])"
   ]
  },
  {
   "cell_type": "code",
   "execution_count": 14,
   "id": "a00ae680-131b-4e95-b091-fc572eb3c09b",
   "metadata": {},
   "outputs": [
    {
     "name": "stdout",
     "output_type": "stream",
     "text": [
      "['apple', 12, 'banana', 42, 'cherry', 10, 11]\n"
     ]
    }
   ],
   "source": [
    "# updating\n",
    "list.append(11)\n",
    "print(list)\n"
   ]
  },
  {
   "cell_type": "code",
   "execution_count": 15,
   "id": "12b6ba4c-f09c-4990-8c8a-a54aeba08b0e",
   "metadata": {},
   "outputs": [
    {
     "name": "stdout",
     "output_type": "stream",
     "text": [
      "['apple', 12, 'banana', 'lychee', 42, 'cherry', 10, 11]\n"
     ]
    }
   ],
   "source": [
    "# updating\n",
    "list.insert(3, \"lychee\")\n",
    "print(list)"
   ]
  },
  {
   "cell_type": "code",
   "execution_count": 16,
   "id": "e26a3194-3ebb-4d87-9fd0-14ccd8491446",
   "metadata": {},
   "outputs": [
    {
     "name": "stdout",
     "output_type": "stream",
     "text": [
      "11\n"
     ]
    }
   ],
   "source": [
    "list.remove(10)# Removes first occurrence of 10\n",
    "# list.clear() - empties all list\n",
    "popped = list.pop() #removes last element\n",
    "print(popped)\n"
   ]
  },
  {
   "cell_type": "code",
   "execution_count": 18,
   "id": "31d12827-b84f-4304-a2f3-b9d9fe367fa3",
   "metadata": {},
   "outputs": [
    {
     "name": "stdout",
     "output_type": "stream",
     "text": [
      "True\n",
      "5\n",
      "1\n"
     ]
    }
   ],
   "source": [
    "# searching\n",
    "print(\"banana\" in list) \n",
    "print(list.index(\"cherry\")) \n",
    "print(list.count(\"apple\")) "
   ]
  },
  {
   "cell_type": "code",
   "execution_count": 20,
   "id": "7fba60e8-5985-4179-8ae5-cc31ba3a36af",
   "metadata": {},
   "outputs": [
    {
     "name": "stdout",
     "output_type": "stream",
     "text": [
      "[12, 'banana', 'lychee']\n",
      "['apple', 12, 'banana']\n",
      "['apple', 'banana', 42]\n"
     ]
    }
   ],
   "source": [
    "# list slicing\n",
    "print(list[1:4]) \n",
    "print(list[:3]) \n",
    "print(list[::2])\n"
   ]
  },
  {
   "cell_type": "code",
   "execution_count": 21,
   "id": "a64aa087-ad81-416e-8f51-1366ccd38f11",
   "metadata": {},
   "outputs": [
    {
     "name": "stdout",
     "output_type": "stream",
     "text": [
      "[1, 2, 3]\n",
      "[0, 1, 2]\n",
      "[0, 2, 4]\n"
     ]
    }
   ],
   "source": [
    "# list slicing\n",
    "nums = [0, 1, 2, 3, 4, 5]\n",
    "print(nums[1:4]) \n",
    "print(nums[:3]) \n",
    "print(nums[::2])"
   ]
  },
  {
   "cell_type": "code",
   "execution_count": 22,
   "id": "1b92e240-28f4-4f2e-a6f3-d3650fc5349b",
   "metadata": {},
   "outputs": [
    {
     "name": "stdout",
     "output_type": "stream",
     "text": [
      "['apple', 12, 'banana', 'lychee', 42, 'cherry']\n",
      "['apple', 12, 'banana', 'lychee', 42, 'cherry']\n",
      "['apple', 12, 'banana', 'lychee', 42, 'cherry']\n",
      "['apple', 12, 'banana', 'lychee', 42, 'cherry']\n",
      "['apple', 12, 'banana', 'lychee', 42, 'cherry']\n",
      "['apple', 12, 'banana', 'lychee', 42, 'cherry']\n"
     ]
    }
   ],
   "source": [
    "# Looping Through a List\n",
    "for i in list:\n",
    "    print(list)"
   ]
  },
  {
   "cell_type": "code",
   "execution_count": 24,
   "id": "0646a409-6fa8-4877-8cbd-cad64252fb02",
   "metadata": {},
   "outputs": [
    {
     "name": "stdout",
     "output_type": "stream",
     "text": [
      "[1, 2, 3, 4]\n",
      "[4, 3, 2, 1]\n",
      "[1, 2, 3, 4]\n"
     ]
    }
   ],
   "source": [
    "# Sorting and Reversing\n",
    "numbers = [4, 1, 3, 2]\n",
    "numbers.sort() \n",
    "print(numbers)\n",
    "numbers.sort(reverse=True) \n",
    "print(numbers)\n",
    "numbers.reverse() \n",
    "print(numbers)"
   ]
  },
  {
   "cell_type": "code",
   "execution_count": 25,
   "id": "14701500-7413-4c24-b5d6-34b546847b29",
   "metadata": {},
   "outputs": [
    {
     "name": "stdout",
     "output_type": "stream",
     "text": [
      "['apple', 12, 'banana', 'lychee', 42, 'cherry', 1, 2, 3, 4]\n"
     ]
    }
   ],
   "source": [
    "# combining list\n",
    "print( list + numbers)"
   ]
  },
  {
   "cell_type": "code",
   "execution_count": 27,
   "id": "4cd03397-26b8-4cb9-9b71-3b51f8089701",
   "metadata": {},
   "outputs": [
    {
     "name": "stdout",
     "output_type": "stream",
     "text": [
      "[0, 1, 4, 9, 16]\n",
      "[0, 2, 4, 6, 8]\n"
     ]
    }
   ],
   "source": [
    "# List Comprehension\n",
    "squares = [x**2 for x in range(5)] \n",
    "print(squares)\n",
    "evens = [x for x in range(10) if x % 2 == 0]\n",
    "print(evens)"
   ]
  },
  {
   "cell_type": "code",
   "execution_count": null,
   "id": "23d7bc7a-899e-40b1-a1e0-97ffd77db5e6",
   "metadata": {},
   "outputs": [],
   "source": []
  }
 ],
 "metadata": {
  "kernelspec": {
   "display_name": "Python 3 (ipykernel)",
   "language": "python",
   "name": "python3"
  },
  "language_info": {
   "codemirror_mode": {
    "name": "ipython",
    "version": 3
   },
   "file_extension": ".py",
   "mimetype": "text/x-python",
   "name": "python",
   "nbconvert_exporter": "python",
   "pygments_lexer": "ipython3",
   "version": "3.12.6"
  }
 },
 "nbformat": 4,
 "nbformat_minor": 5
}
