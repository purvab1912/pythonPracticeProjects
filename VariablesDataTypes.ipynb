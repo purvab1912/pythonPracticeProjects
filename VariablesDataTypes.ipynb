{
 "cells": [
  {
   "cell_type": "code",
   "execution_count": 12,
   "id": "381d08ae-0c65-4b52-8d8e-8d89b839bdd9",
   "metadata": {},
   "outputs": [],
   "source": [
    "# int      Integer (whole numbers)\n",
    "# float    Float (numbers with decimals)\n",
    "# str      String (literals, words, text)\n",
    "# bool     Boolean (either True or False)"
   ]
  },
  {
   "cell_type": "markdown",
   "id": "30a95c4f-87e0-4683-9a9e-759085270b44",
   "metadata": {},
   "source": [
    "Examples"
   ]
  },
  {
   "cell_type": "code",
   "execution_count": 13,
   "id": "755848ec-9231-400e-872f-dbce8de4d6de",
   "metadata": {},
   "outputs": [],
   "source": [
    "A = 10\n",
    "a = 20\n",
    "B = 1.8\n",
    "Course = \"MCA\"\n",
    "course = \"Data Science\"\n",
    "likes_tea = True "
   ]
  },
  {
   "cell_type": "markdown",
   "id": "a28e797e-b124-45f3-8dd6-f191e73db1c6",
   "metadata": {},
   "source": [
    "Printing"
   ]
  },
  {
   "cell_type": "code",
   "execution_count": 14,
   "id": "1e286057-d5f3-4951-8d0d-914dedb3caf9",
   "metadata": {},
   "outputs": [
    {
     "name": "stdout",
     "output_type": "stream",
     "text": [
      "Hello\n"
     ]
    }
   ],
   "source": [
    "print(\"Hello\")"
   ]
  },
  {
   "cell_type": "code",
   "execution_count": 15,
   "id": "2a9124e7-b548-403b-a02e-757412b9e084",
   "metadata": {},
   "outputs": [
    {
     "name": "stdout",
     "output_type": "stream",
     "text": [
      "30\n"
     ]
    }
   ],
   "source": [
    "print( A + a )"
   ]
  },
  {
   "cell_type": "code",
   "execution_count": 19,
   "id": "d14aa83a-218f-4af9-a3d8-1d02a1d5d9de",
   "metadata": {},
   "outputs": [
    {
     "name": "stdout",
     "output_type": "stream",
     "text": [
      "Data Science Student from MCA Department\n"
     ]
    }
   ],
   "source": [
    "# Adding two strings\n",
    "print( course + \" Student from \" + Course + \" Department\")"
   ]
  },
  {
   "cell_type": "code",
   "execution_count": null,
   "id": "6e12c1f9-c2d2-44e0-bee9-cdc272b2fea5",
   "metadata": {},
   "outputs": [],
   "source": []
  }
 ],
 "metadata": {
  "kernelspec": {
   "display_name": "Python 3 (ipykernel)",
   "language": "python",
   "name": "python3"
  },
  "language_info": {
   "codemirror_mode": {
    "name": "ipython",
    "version": 3
   },
   "file_extension": ".py",
   "mimetype": "text/x-python",
   "name": "python",
   "nbconvert_exporter": "python",
   "pygments_lexer": "ipython3",
   "version": "3.12.6"
  }
 },
 "nbformat": 4,
 "nbformat_minor": 5
}
